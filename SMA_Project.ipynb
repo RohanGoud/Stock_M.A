{
  "nbformat": 4,
  "nbformat_minor": 0,
  "metadata": {
    "colab": {
      "name": "SMA_Project.ipynb",
      "provenance": [],
      "collapsed_sections": [],
      "authorship_tag": "ABX9TyNCMkADHkYwKfKUCCLr9vo1",
      "include_colab_link": true
    },
    "kernelspec": {
      "name": "python3",
      "display_name": "Python 3"
    }
  },
  "cells": [
    {
      "cell_type": "markdown",
      "metadata": {
        "id": "view-in-github",
        "colab_type": "text"
      },
      "source": [
        "<a href=\"https://colab.research.google.com/github/RohanGoud/Stock_M.A/blob/master/SMA_Project.ipynb\" target=\"_parent\"><img src=\"https://colab.research.google.com/assets/colab-badge.svg\" alt=\"Open In Colab\"/></a>"
      ]
    },
    {
      "cell_type": "markdown",
      "metadata": {
        "id": "yuy4qGe54OYq",
        "colab_type": "text"
      },
      "source": [
        "## **IMPORT LIBRARIES**\n"
      ]
    },
    {
      "cell_type": "code",
      "metadata": {
        "id": "Bnqqt-nYjWIQ",
        "colab_type": "code",
        "colab": {
          "base_uri": "https://localhost:8080/",
          "height": 255
        },
        "outputId": "a7f40ae2-5823-4692-b885-fe909147ed34"
      },
      "source": [
        "!pip install --upgrade ta"
      ],
      "execution_count": 1,
      "outputs": [
        {
          "output_type": "stream",
          "text": [
            "Collecting ta\n",
            "  Downloading https://files.pythonhosted.org/packages/90/ec/e4f5aea8c7f0f55f92b52ffbafa389ea82f3a10d9cab2760e40af34c5b3f/ta-0.5.25.tar.gz\n",
            "Requirement already satisfied, skipping upgrade: numpy in /usr/local/lib/python3.6/dist-packages (from ta) (1.18.5)\n",
            "Requirement already satisfied, skipping upgrade: pandas in /usr/local/lib/python3.6/dist-packages (from ta) (1.0.5)\n",
            "Requirement already satisfied, skipping upgrade: pytz>=2017.2 in /usr/local/lib/python3.6/dist-packages (from pandas->ta) (2018.9)\n",
            "Requirement already satisfied, skipping upgrade: python-dateutil>=2.6.1 in /usr/local/lib/python3.6/dist-packages (from pandas->ta) (2.8.1)\n",
            "Requirement already satisfied, skipping upgrade: six>=1.5 in /usr/local/lib/python3.6/dist-packages (from python-dateutil>=2.6.1->pandas->ta) (1.12.0)\n",
            "Building wheels for collected packages: ta\n",
            "  Building wheel for ta (setup.py) ... \u001b[?25l\u001b[?25hdone\n",
            "  Created wheel for ta: filename=ta-0.5.25-cp36-none-any.whl size=24880 sha256=006791332d88d2faf41910a21ae5c9f0a00991746c0922dbcfbfe27241d20d30\n",
            "  Stored in directory: /root/.cache/pip/wheels/2e/93/b7/cf649194508e53cee4145ffb949e9f26877a5a8dd12db9ed5b\n",
            "Successfully built ta\n",
            "Installing collected packages: ta\n",
            "Successfully installed ta-0.5.25\n"
          ],
          "name": "stdout"
        }
      ]
    },
    {
      "cell_type": "code",
      "metadata": {
        "id": "ocozxxockLBX",
        "colab_type": "code",
        "colab": {}
      },
      "source": [
        "import pandas as pd\n",
        "import matplotlib.pyplot as plt \n",
        "import numpy as np\n",
        "import ta as ta\n"
      ],
      "execution_count": 2,
      "outputs": []
    },
    {
      "cell_type": "markdown",
      "metadata": {
        "id": "NQ71-0zb-nxo",
        "colab_type": "text"
      },
      "source": [
        "## **UPLOAD DATASET TO STORAGE**\n"
      ]
    },
    {
      "cell_type": "code",
      "metadata": {
        "id": "cwUo8wZRkbH2",
        "colab_type": "code",
        "colab": {
          "base_uri": "https://localhost:8080/",
          "height": 204
        },
        "outputId": "4ff99750-cc93-4f1c-d8f0-9f665b60d837"
      },
      "source": [
        "data = pd.read_csv('indb.us.txt') \n",
        "data.head()\n"
      ],
      "execution_count": 3,
      "outputs": [
        {
          "output_type": "execute_result",
          "data": {
            "text/html": [
              "<div>\n",
              "<style scoped>\n",
              "    .dataframe tbody tr th:only-of-type {\n",
              "        vertical-align: middle;\n",
              "    }\n",
              "\n",
              "    .dataframe tbody tr th {\n",
              "        vertical-align: top;\n",
              "    }\n",
              "\n",
              "    .dataframe thead th {\n",
              "        text-align: right;\n",
              "    }\n",
              "</style>\n",
              "<table border=\"1\" class=\"dataframe\">\n",
              "  <thead>\n",
              "    <tr style=\"text-align: right;\">\n",
              "      <th></th>\n",
              "      <th>Date</th>\n",
              "      <th>Open</th>\n",
              "      <th>High</th>\n",
              "      <th>Low</th>\n",
              "      <th>Close</th>\n",
              "      <th>Volume</th>\n",
              "      <th>OpenInt</th>\n",
              "    </tr>\n",
              "  </thead>\n",
              "  <tbody>\n",
              "    <tr>\n",
              "      <th>0</th>\n",
              "      <td>2005-02-25</td>\n",
              "      <td>24.553</td>\n",
              "      <td>25.262</td>\n",
              "      <td>24.385</td>\n",
              "      <td>25.211</td>\n",
              "      <td>41230</td>\n",
              "      <td>0</td>\n",
              "    </tr>\n",
              "    <tr>\n",
              "      <th>1</th>\n",
              "      <td>2005-02-28</td>\n",
              "      <td>24.823</td>\n",
              "      <td>25.170</td>\n",
              "      <td>24.402</td>\n",
              "      <td>24.932</td>\n",
              "      <td>50030</td>\n",
              "      <td>0</td>\n",
              "    </tr>\n",
              "    <tr>\n",
              "      <th>2</th>\n",
              "      <td>2005-03-01</td>\n",
              "      <td>25.137</td>\n",
              "      <td>25.559</td>\n",
              "      <td>24.771</td>\n",
              "      <td>25.559</td>\n",
              "      <td>42835</td>\n",
              "      <td>0</td>\n",
              "    </tr>\n",
              "    <tr>\n",
              "      <th>3</th>\n",
              "      <td>2005-03-02</td>\n",
              "      <td>25.076</td>\n",
              "      <td>25.559</td>\n",
              "      <td>25.076</td>\n",
              "      <td>25.501</td>\n",
              "      <td>50988</td>\n",
              "      <td>0</td>\n",
              "    </tr>\n",
              "    <tr>\n",
              "      <th>4</th>\n",
              "      <td>2005-03-03</td>\n",
              "      <td>25.559</td>\n",
              "      <td>25.559</td>\n",
              "      <td>24.747</td>\n",
              "      <td>25.220</td>\n",
              "      <td>44543</td>\n",
              "      <td>0</td>\n",
              "    </tr>\n",
              "  </tbody>\n",
              "</table>\n",
              "</div>"
            ],
            "text/plain": [
              "         Date    Open    High     Low   Close  Volume  OpenInt\n",
              "0  2005-02-25  24.553  25.262  24.385  25.211   41230        0\n",
              "1  2005-02-28  24.823  25.170  24.402  24.932   50030        0\n",
              "2  2005-03-01  25.137  25.559  24.771  25.559   42835        0\n",
              "3  2005-03-02  25.076  25.559  25.076  25.501   50988        0\n",
              "4  2005-03-03  25.559  25.559  24.747  25.220   44543        0"
            ]
          },
          "metadata": {
            "tags": []
          },
          "execution_count": 3
        }
      ]
    },
    {
      "cell_type": "code",
      "metadata": {
        "id": "56oY2csY5E2U",
        "colab_type": "code",
        "colab": {
          "base_uri": "https://localhost:8080/",
          "height": 34
        },
        "outputId": "82579b85-c227-4a74-80af-c7a81c9d5b31"
      },
      "source": [
        "data.shape"
      ],
      "execution_count": 4,
      "outputs": [
        {
          "output_type": "execute_result",
          "data": {
            "text/plain": [
              "(3201, 7)"
            ]
          },
          "metadata": {
            "tags": []
          },
          "execution_count": 4
        }
      ]
    },
    {
      "cell_type": "code",
      "metadata": {
        "id": "towc2AEKpqhJ",
        "colab_type": "code",
        "colab": {
          "base_uri": "https://localhost:8080/",
          "height": 153
        },
        "outputId": "9dfd614a-391f-48b8-8e18-2e4fe9d8859a"
      },
      "source": [
        "data.isnull().sum()\n"
      ],
      "execution_count": 5,
      "outputs": [
        {
          "output_type": "execute_result",
          "data": {
            "text/plain": [
              "Date       0\n",
              "Open       0\n",
              "High       0\n",
              "Low        0\n",
              "Close      0\n",
              "Volume     0\n",
              "OpenInt    0\n",
              "dtype: int64"
            ]
          },
          "metadata": {
            "tags": []
          },
          "execution_count": 5
        }
      ]
    },
    {
      "cell_type": "markdown",
      "metadata": {
        "id": "jwaGE3gM9Dv0",
        "colab_type": "text"
      },
      "source": [
        "As we can see, there are no NaN or null values in the dataset, and can therefore be considered a clean dataset."
      ]
    },
    {
      "cell_type": "markdown",
      "metadata": {
        "id": "-tiQ2AF_CCPC",
        "colab_type": "text"
      },
      "source": [
        "## **DATA PREPROCESSING**\n"
      ]
    },
    {
      "cell_type": "markdown",
      "metadata": {
        "id": "sIM1zj2FCNg-",
        "colab_type": "text"
      },
      "source": [
        "**COMPUTE IF THE STOCK IS MOVING UP/DOWN**"
      ]
    },
    {
      "cell_type": "code",
      "metadata": {
        "id": "21yC_QPJpx00",
        "colab_type": "code",
        "colab": {}
      },
      "source": [
        "def stockTrend(s):\n",
        "  if (s['Close'] - s['Open'] > 0):\n",
        "    return 'up'\n",
        "  elif (s['Close'] - s['Open'] == 0) :\n",
        "    return 'nochange'\n",
        "  else:\n",
        "    return 'down'\n"
      ],
      "execution_count": 6,
      "outputs": []
    },
    {
      "cell_type": "code",
      "metadata": {
        "id": "pCMUVOJiqPfK",
        "colab_type": "code",
        "colab": {}
      },
      "source": [
        "data['Class'] = data.apply(stockTrend,axis=1)\n"
      ],
      "execution_count": 7,
      "outputs": []
    },
    {
      "cell_type": "code",
      "metadata": {
        "id": "-4_R-JeuDouc",
        "colab_type": "code",
        "colab": {
          "base_uri": "https://localhost:8080/",
          "height": 204
        },
        "outputId": "9a71abac-e253-48af-865d-3a3391ceeec8"
      },
      "source": [
        "data.tail()\n"
      ],
      "execution_count": 8,
      "outputs": [
        {
          "output_type": "execute_result",
          "data": {
            "text/html": [
              "<div>\n",
              "<style scoped>\n",
              "    .dataframe tbody tr th:only-of-type {\n",
              "        vertical-align: middle;\n",
              "    }\n",
              "\n",
              "    .dataframe tbody tr th {\n",
              "        vertical-align: top;\n",
              "    }\n",
              "\n",
              "    .dataframe thead th {\n",
              "        text-align: right;\n",
              "    }\n",
              "</style>\n",
              "<table border=\"1\" class=\"dataframe\">\n",
              "  <thead>\n",
              "    <tr style=\"text-align: right;\">\n",
              "      <th></th>\n",
              "      <th>Date</th>\n",
              "      <th>Open</th>\n",
              "      <th>High</th>\n",
              "      <th>Low</th>\n",
              "      <th>Close</th>\n",
              "      <th>Volume</th>\n",
              "      <th>OpenInt</th>\n",
              "      <th>Class</th>\n",
              "    </tr>\n",
              "  </thead>\n",
              "  <tbody>\n",
              "    <tr>\n",
              "      <th>3196</th>\n",
              "      <td>2017-11-06</td>\n",
              "      <td>71.65</td>\n",
              "      <td>72.20</td>\n",
              "      <td>71.20</td>\n",
              "      <td>71.45</td>\n",
              "      <td>31340</td>\n",
              "      <td>0</td>\n",
              "      <td>down</td>\n",
              "    </tr>\n",
              "    <tr>\n",
              "      <th>3197</th>\n",
              "      <td>2017-11-07</td>\n",
              "      <td>71.45</td>\n",
              "      <td>71.45</td>\n",
              "      <td>69.10</td>\n",
              "      <td>69.35</td>\n",
              "      <td>65954</td>\n",
              "      <td>0</td>\n",
              "      <td>down</td>\n",
              "    </tr>\n",
              "    <tr>\n",
              "      <th>3198</th>\n",
              "      <td>2017-11-08</td>\n",
              "      <td>68.90</td>\n",
              "      <td>69.20</td>\n",
              "      <td>67.85</td>\n",
              "      <td>68.90</td>\n",
              "      <td>60744</td>\n",
              "      <td>0</td>\n",
              "      <td>nochange</td>\n",
              "    </tr>\n",
              "    <tr>\n",
              "      <th>3199</th>\n",
              "      <td>2017-11-09</td>\n",
              "      <td>68.20</td>\n",
              "      <td>69.05</td>\n",
              "      <td>66.85</td>\n",
              "      <td>67.90</td>\n",
              "      <td>76509</td>\n",
              "      <td>0</td>\n",
              "      <td>down</td>\n",
              "    </tr>\n",
              "    <tr>\n",
              "      <th>3200</th>\n",
              "      <td>2017-11-10</td>\n",
              "      <td>68.20</td>\n",
              "      <td>68.30</td>\n",
              "      <td>67.70</td>\n",
              "      <td>68.05</td>\n",
              "      <td>51348</td>\n",
              "      <td>0</td>\n",
              "      <td>down</td>\n",
              "    </tr>\n",
              "  </tbody>\n",
              "</table>\n",
              "</div>"
            ],
            "text/plain": [
              "            Date   Open   High    Low  Close  Volume  OpenInt     Class\n",
              "3196  2017-11-06  71.65  72.20  71.20  71.45   31340        0      down\n",
              "3197  2017-11-07  71.45  71.45  69.10  69.35   65954        0      down\n",
              "3198  2017-11-08  68.90  69.20  67.85  68.90   60744        0  nochange\n",
              "3199  2017-11-09  68.20  69.05  66.85  67.90   76509        0      down\n",
              "3200  2017-11-10  68.20  68.30  67.70  68.05   51348        0      down"
            ]
          },
          "metadata": {
            "tags": []
          },
          "execution_count": 8
        }
      ]
    },
    {
      "cell_type": "markdown",
      "metadata": {
        "id": "QsZu-mR1FuAG",
        "colab_type": "text"
      },
      "source": [
        "**COMPUTE VARIOUS OTHER TECHNICAL MARKERS THAT WILL BE USED**"
      ]
    },
    {
      "cell_type": "markdown",
      "metadata": {
        "id": "Dx2IatalGA0D",
        "colab_type": "text"
      },
      "source": [
        "**Force Index = ( Close - Open ) x volume**\n",
        "\n"
      ]
    },
    {
      "cell_type": "code",
      "metadata": {
        "id": "6WloUyjbNPy2",
        "colab_type": "code",
        "colab": {}
      },
      "source": [
        "def forceindex(s):\n",
        "  return (s['Close']-s['Open'])*s['Volume']\n",
        "\n",
        "data['forceindex'] = data.apply(forceindex, axis=1)\n",
        "\n"
      ],
      "execution_count": 9,
      "outputs": []
    },
    {
      "cell_type": "code",
      "metadata": {
        "id": "LT4E5RWCNrOR",
        "colab_type": "code",
        "colab": {
          "base_uri": "https://localhost:8080/",
          "height": 204
        },
        "outputId": "7a9a4c38-6205-4ae1-b132-53f15b1c7804"
      },
      "source": [
        "data.head()"
      ],
      "execution_count": 10,
      "outputs": [
        {
          "output_type": "execute_result",
          "data": {
            "text/html": [
              "<div>\n",
              "<style scoped>\n",
              "    .dataframe tbody tr th:only-of-type {\n",
              "        vertical-align: middle;\n",
              "    }\n",
              "\n",
              "    .dataframe tbody tr th {\n",
              "        vertical-align: top;\n",
              "    }\n",
              "\n",
              "    .dataframe thead th {\n",
              "        text-align: right;\n",
              "    }\n",
              "</style>\n",
              "<table border=\"1\" class=\"dataframe\">\n",
              "  <thead>\n",
              "    <tr style=\"text-align: right;\">\n",
              "      <th></th>\n",
              "      <th>Date</th>\n",
              "      <th>Open</th>\n",
              "      <th>High</th>\n",
              "      <th>Low</th>\n",
              "      <th>Close</th>\n",
              "      <th>Volume</th>\n",
              "      <th>OpenInt</th>\n",
              "      <th>Class</th>\n",
              "      <th>forceindex</th>\n",
              "    </tr>\n",
              "  </thead>\n",
              "  <tbody>\n",
              "    <tr>\n",
              "      <th>0</th>\n",
              "      <td>2005-02-25</td>\n",
              "      <td>24.553</td>\n",
              "      <td>25.262</td>\n",
              "      <td>24.385</td>\n",
              "      <td>25.211</td>\n",
              "      <td>41230</td>\n",
              "      <td>0</td>\n",
              "      <td>up</td>\n",
              "      <td>27129.340</td>\n",
              "    </tr>\n",
              "    <tr>\n",
              "      <th>1</th>\n",
              "      <td>2005-02-28</td>\n",
              "      <td>24.823</td>\n",
              "      <td>25.170</td>\n",
              "      <td>24.402</td>\n",
              "      <td>24.932</td>\n",
              "      <td>50030</td>\n",
              "      <td>0</td>\n",
              "      <td>up</td>\n",
              "      <td>5453.270</td>\n",
              "    </tr>\n",
              "    <tr>\n",
              "      <th>2</th>\n",
              "      <td>2005-03-01</td>\n",
              "      <td>25.137</td>\n",
              "      <td>25.559</td>\n",
              "      <td>24.771</td>\n",
              "      <td>25.559</td>\n",
              "      <td>42835</td>\n",
              "      <td>0</td>\n",
              "      <td>up</td>\n",
              "      <td>18076.370</td>\n",
              "    </tr>\n",
              "    <tr>\n",
              "      <th>3</th>\n",
              "      <td>2005-03-02</td>\n",
              "      <td>25.076</td>\n",
              "      <td>25.559</td>\n",
              "      <td>25.076</td>\n",
              "      <td>25.501</td>\n",
              "      <td>50988</td>\n",
              "      <td>0</td>\n",
              "      <td>up</td>\n",
              "      <td>21669.900</td>\n",
              "    </tr>\n",
              "    <tr>\n",
              "      <th>4</th>\n",
              "      <td>2005-03-03</td>\n",
              "      <td>25.559</td>\n",
              "      <td>25.559</td>\n",
              "      <td>24.747</td>\n",
              "      <td>25.220</td>\n",
              "      <td>44543</td>\n",
              "      <td>0</td>\n",
              "      <td>down</td>\n",
              "      <td>-15100.077</td>\n",
              "    </tr>\n",
              "  </tbody>\n",
              "</table>\n",
              "</div>"
            ],
            "text/plain": [
              "         Date    Open    High     Low  ...  Volume  OpenInt  Class forceindex\n",
              "0  2005-02-25  24.553  25.262  24.385  ...   41230        0     up  27129.340\n",
              "1  2005-02-28  24.823  25.170  24.402  ...   50030        0     up   5453.270\n",
              "2  2005-03-01  25.137  25.559  24.771  ...   42835        0     up  18076.370\n",
              "3  2005-03-02  25.076  25.559  25.076  ...   50988        0     up  21669.900\n",
              "4  2005-03-03  25.559  25.559  24.747  ...   44543        0   down -15100.077\n",
              "\n",
              "[5 rows x 9 columns]"
            ]
          },
          "metadata": {
            "tags": []
          },
          "execution_count": 10
        }
      ]
    },
    {
      "cell_type": "markdown",
      "metadata": {
        "id": "1KI5P2joH7i6",
        "colab_type": "text"
      },
      "source": [
        " ------------------------------------------------------\n",
        " \n",
        " (1)***Williams %R***---->%R = -100 * ( ( Highest High - Close) / ( Highest High - Lowest Low ) )\n",
        " \n",
        "\n",
        "(2)***Relative Strength Indicator (RSI)***---->    RSI = 100 - (100 / (1 + RS))\n",
        "\n",
        "(3)***The Rate of Change(ROC)***---->ROC = (Current Price / Price of n periods ago)-1.0) * 100\n",
        "\n"
      ]
    },
    {
      "cell_type": "code",
      "metadata": {
        "id": "wPW-QnbeNvPv",
        "colab_type": "code",
        "colab": {
          "base_uri": "https://localhost:8080/",
          "height": 204
        },
        "outputId": "072d1fdf-8d16-4318-9998-c2c46d93851f"
      },
      "source": [
        "data['WillR%' ] = ta.momentum.WilliamsRIndicator(data['High'], data['Low'], data['Close'],  fillna='true').wr()\n",
        "\n",
        "\n",
        "data['RSI5'  ] = ta.momentum.RSIIndicator(data['Close'], n=5,   fillna='true').rsi()\n",
        "data['RSI10' ] = ta.momentum.RSIIndicator(data['Close'], n=10,  fillna='true').rsi()\n",
        "data['RSI15' ] = ta.momentum.RSIIndicator(data['Close'], n=15,  fillna='true').rsi()\n",
        "\n",
        "data['ROC5'  ] = ta.momentum.ROCIndicator(data['Close'], n=5,   fillna='true').roc()\n",
        "data['ROC10' ] = ta.momentum.ROCIndicator(data['Close'], n=10,  fillna='true').roc()\n",
        "\n",
        "data['ATR5'  ] = ta.volatility.AverageTrueRange(data['High'], data['Low'], data['Close'], n=5,  fillna='true').average_true_range()\n",
        "data['ATR10' ] = ta.volatility.AverageTrueRange(data['High'], data['Low'], data['Close'], n=10, fillna='true').average_true_range()\n",
        "\n",
        "data.tail()"
      ],
      "execution_count": 11,
      "outputs": [
        {
          "output_type": "execute_result",
          "data": {
            "text/html": [
              "<div>\n",
              "<style scoped>\n",
              "    .dataframe tbody tr th:only-of-type {\n",
              "        vertical-align: middle;\n",
              "    }\n",
              "\n",
              "    .dataframe tbody tr th {\n",
              "        vertical-align: top;\n",
              "    }\n",
              "\n",
              "    .dataframe thead th {\n",
              "        text-align: right;\n",
              "    }\n",
              "</style>\n",
              "<table border=\"1\" class=\"dataframe\">\n",
              "  <thead>\n",
              "    <tr style=\"text-align: right;\">\n",
              "      <th></th>\n",
              "      <th>Date</th>\n",
              "      <th>Open</th>\n",
              "      <th>High</th>\n",
              "      <th>Low</th>\n",
              "      <th>Close</th>\n",
              "      <th>Volume</th>\n",
              "      <th>OpenInt</th>\n",
              "      <th>Class</th>\n",
              "      <th>forceindex</th>\n",
              "      <th>WillR%</th>\n",
              "      <th>RSI5</th>\n",
              "      <th>RSI10</th>\n",
              "      <th>RSI15</th>\n",
              "      <th>ROC5</th>\n",
              "      <th>ROC10</th>\n",
              "      <th>ATR5</th>\n",
              "      <th>ATR10</th>\n",
              "    </tr>\n",
              "  </thead>\n",
              "  <tbody>\n",
              "    <tr>\n",
              "      <th>3196</th>\n",
              "      <td>2017-11-06</td>\n",
              "      <td>71.65</td>\n",
              "      <td>72.20</td>\n",
              "      <td>71.20</td>\n",
              "      <td>71.45</td>\n",
              "      <td>31340</td>\n",
              "      <td>0</td>\n",
              "      <td>down</td>\n",
              "      <td>-6268.0</td>\n",
              "      <td>-79.411765</td>\n",
              "      <td>37.530440</td>\n",
              "      <td>41.744495</td>\n",
              "      <td>44.995751</td>\n",
              "      <td>-0.418118</td>\n",
              "      <td>0.070028</td>\n",
              "      <td>1.275869</td>\n",
              "      <td>1.394496</td>\n",
              "    </tr>\n",
              "    <tr>\n",
              "      <th>3197</th>\n",
              "      <td>2017-11-07</td>\n",
              "      <td>71.45</td>\n",
              "      <td>71.45</td>\n",
              "      <td>69.10</td>\n",
              "      <td>69.35</td>\n",
              "      <td>65954</td>\n",
              "      <td>0</td>\n",
              "      <td>down</td>\n",
              "      <td>-138503.4</td>\n",
              "      <td>-96.093750</td>\n",
              "      <td>18.660711</td>\n",
              "      <td>30.149666</td>\n",
              "      <td>36.453226</td>\n",
              "      <td>-3.814147</td>\n",
              "      <td>-3.006993</td>\n",
              "      <td>1.490695</td>\n",
              "      <td>1.490046</td>\n",
              "    </tr>\n",
              "    <tr>\n",
              "      <th>3198</th>\n",
              "      <td>2017-11-08</td>\n",
              "      <td>68.90</td>\n",
              "      <td>69.20</td>\n",
              "      <td>67.85</td>\n",
              "      <td>68.90</td>\n",
              "      <td>60744</td>\n",
              "      <td>0</td>\n",
              "      <td>nochange</td>\n",
              "      <td>0.0</td>\n",
              "      <td>-86.274510</td>\n",
              "      <td>16.445872</td>\n",
              "      <td>28.279470</td>\n",
              "      <td>34.930654</td>\n",
              "      <td>-4.172462</td>\n",
              "      <td>-2.889359</td>\n",
              "      <td>1.492556</td>\n",
              "      <td>1.491042</td>\n",
              "    </tr>\n",
              "    <tr>\n",
              "      <th>3199</th>\n",
              "      <td>2017-11-09</td>\n",
              "      <td>68.20</td>\n",
              "      <td>69.05</td>\n",
              "      <td>66.85</td>\n",
              "      <td>67.90</td>\n",
              "      <td>76509</td>\n",
              "      <td>0</td>\n",
              "      <td>down</td>\n",
              "      <td>-22952.7</td>\n",
              "      <td>-82.786885</td>\n",
              "      <td>12.368160</td>\n",
              "      <td>24.523426</td>\n",
              "      <td>31.771106</td>\n",
              "      <td>-6.280193</td>\n",
              "      <td>-5.233775</td>\n",
              "      <td>1.634045</td>\n",
              "      <td>1.561938</td>\n",
              "    </tr>\n",
              "    <tr>\n",
              "      <th>3200</th>\n",
              "      <td>2017-11-10</td>\n",
              "      <td>68.20</td>\n",
              "      <td>68.30</td>\n",
              "      <td>67.70</td>\n",
              "      <td>68.05</td>\n",
              "      <td>51348</td>\n",
              "      <td>0</td>\n",
              "      <td>down</td>\n",
              "      <td>-7702.2</td>\n",
              "      <td>-80.327869</td>\n",
              "      <td>16.261190</td>\n",
              "      <td>26.158026</td>\n",
              "      <td>32.748733</td>\n",
              "      <td>-4.958101</td>\n",
              "      <td>-5.943331</td>\n",
              "      <td>1.427236</td>\n",
              "      <td>1.465744</td>\n",
              "    </tr>\n",
              "  </tbody>\n",
              "</table>\n",
              "</div>"
            ],
            "text/plain": [
              "            Date   Open   High    Low  ...      ROC5     ROC10      ATR5     ATR10\n",
              "3196  2017-11-06  71.65  72.20  71.20  ... -0.418118  0.070028  1.275869  1.394496\n",
              "3197  2017-11-07  71.45  71.45  69.10  ... -3.814147 -3.006993  1.490695  1.490046\n",
              "3198  2017-11-08  68.90  69.20  67.85  ... -4.172462 -2.889359  1.492556  1.491042\n",
              "3199  2017-11-09  68.20  69.05  66.85  ... -6.280193 -5.233775  1.634045  1.561938\n",
              "3200  2017-11-10  68.20  68.30  67.70  ... -4.958101 -5.943331  1.427236  1.465744\n",
              "\n",
              "[5 rows x 17 columns]"
            ]
          },
          "metadata": {
            "tags": []
          },
          "execution_count": 11
        }
      ]
    },
    {
      "cell_type": "code",
      "metadata": {
        "id": "Iw9qoCuV9tNZ",
        "colab_type": "code",
        "colab": {
          "base_uri": "https://localhost:8080/",
          "height": 34
        },
        "outputId": "7fcb4d77-f065-47ec-a91f-d56d09ffc5d0"
      },
      "source": [
        "type(data['High'])\n",
        "type(ta.momentum.WilliamsRIndicator(data['High'], data['Low'], data['Close'], 5).wr())"
      ],
      "execution_count": 12,
      "outputs": [
        {
          "output_type": "execute_result",
          "data": {
            "text/plain": [
              "pandas.core.series.Series"
            ]
          },
          "metadata": {
            "tags": []
          },
          "execution_count": 12
        }
      ]
    },
    {
      "cell_type": "code",
      "metadata": {
        "id": "nqP_dvw2pbCa",
        "colab_type": "code",
        "colab": {
          "base_uri": "https://localhost:8080/",
          "height": 204
        },
        "outputId": "fa68b6b7-7334-47c3-9c47-44f6cc319888"
      },
      "source": [
        "data.head(5)"
      ],
      "execution_count": 13,
      "outputs": [
        {
          "output_type": "execute_result",
          "data": {
            "text/html": [
              "<div>\n",
              "<style scoped>\n",
              "    .dataframe tbody tr th:only-of-type {\n",
              "        vertical-align: middle;\n",
              "    }\n",
              "\n",
              "    .dataframe tbody tr th {\n",
              "        vertical-align: top;\n",
              "    }\n",
              "\n",
              "    .dataframe thead th {\n",
              "        text-align: right;\n",
              "    }\n",
              "</style>\n",
              "<table border=\"1\" class=\"dataframe\">\n",
              "  <thead>\n",
              "    <tr style=\"text-align: right;\">\n",
              "      <th></th>\n",
              "      <th>Date</th>\n",
              "      <th>Open</th>\n",
              "      <th>High</th>\n",
              "      <th>Low</th>\n",
              "      <th>Close</th>\n",
              "      <th>Volume</th>\n",
              "      <th>OpenInt</th>\n",
              "      <th>Class</th>\n",
              "      <th>forceindex</th>\n",
              "      <th>WillR%</th>\n",
              "      <th>RSI5</th>\n",
              "      <th>RSI10</th>\n",
              "      <th>RSI15</th>\n",
              "      <th>ROC5</th>\n",
              "      <th>ROC10</th>\n",
              "      <th>ATR5</th>\n",
              "      <th>ATR10</th>\n",
              "    </tr>\n",
              "  </thead>\n",
              "  <tbody>\n",
              "    <tr>\n",
              "      <th>0</th>\n",
              "      <td>2005-02-25</td>\n",
              "      <td>24.553</td>\n",
              "      <td>25.262</td>\n",
              "      <td>24.385</td>\n",
              "      <td>25.211</td>\n",
              "      <td>41230</td>\n",
              "      <td>0</td>\n",
              "      <td>up</td>\n",
              "      <td>27129.340</td>\n",
              "      <td>-5.815279</td>\n",
              "      <td>100.000000</td>\n",
              "      <td>100.000000</td>\n",
              "      <td>100.000000</td>\n",
              "      <td>0.0</td>\n",
              "      <td>0.0</td>\n",
              "      <td>0.0000</td>\n",
              "      <td>0.0</td>\n",
              "    </tr>\n",
              "    <tr>\n",
              "      <th>1</th>\n",
              "      <td>2005-02-28</td>\n",
              "      <td>24.823</td>\n",
              "      <td>25.170</td>\n",
              "      <td>24.402</td>\n",
              "      <td>24.932</td>\n",
              "      <td>50030</td>\n",
              "      <td>0</td>\n",
              "      <td>up</td>\n",
              "      <td>5453.270</td>\n",
              "      <td>-37.628278</td>\n",
              "      <td>0.000000</td>\n",
              "      <td>0.000000</td>\n",
              "      <td>0.000000</td>\n",
              "      <td>0.0</td>\n",
              "      <td>0.0</td>\n",
              "      <td>0.0000</td>\n",
              "      <td>0.0</td>\n",
              "    </tr>\n",
              "    <tr>\n",
              "      <th>2</th>\n",
              "      <td>2005-03-01</td>\n",
              "      <td>25.137</td>\n",
              "      <td>25.559</td>\n",
              "      <td>24.771</td>\n",
              "      <td>25.559</td>\n",
              "      <td>42835</td>\n",
              "      <td>0</td>\n",
              "      <td>up</td>\n",
              "      <td>18076.370</td>\n",
              "      <td>-0.000000</td>\n",
              "      <td>73.747354</td>\n",
              "      <td>71.404168</td>\n",
              "      <td>70.655849</td>\n",
              "      <td>0.0</td>\n",
              "      <td>0.0</td>\n",
              "      <td>0.0000</td>\n",
              "      <td>0.0</td>\n",
              "    </tr>\n",
              "    <tr>\n",
              "      <th>3</th>\n",
              "      <td>2005-03-02</td>\n",
              "      <td>25.076</td>\n",
              "      <td>25.559</td>\n",
              "      <td>25.076</td>\n",
              "      <td>25.501</td>\n",
              "      <td>50988</td>\n",
              "      <td>0</td>\n",
              "      <td>up</td>\n",
              "      <td>21669.900</td>\n",
              "      <td>-4.940375</td>\n",
              "      <td>67.952747</td>\n",
              "      <td>66.522062</td>\n",
              "      <td>66.031775</td>\n",
              "      <td>0.0</td>\n",
              "      <td>0.0</td>\n",
              "      <td>0.0000</td>\n",
              "      <td>0.0</td>\n",
              "    </tr>\n",
              "    <tr>\n",
              "      <th>4</th>\n",
              "      <td>2005-03-03</td>\n",
              "      <td>25.559</td>\n",
              "      <td>25.559</td>\n",
              "      <td>24.747</td>\n",
              "      <td>25.220</td>\n",
              "      <td>44543</td>\n",
              "      <td>0</td>\n",
              "      <td>down</td>\n",
              "      <td>-15100.077</td>\n",
              "      <td>-28.875639</td>\n",
              "      <td>46.043271</td>\n",
              "      <td>48.625080</td>\n",
              "      <td>49.287827</td>\n",
              "      <td>0.0</td>\n",
              "      <td>0.0</td>\n",
              "      <td>0.7538</td>\n",
              "      <td>0.0</td>\n",
              "    </tr>\n",
              "  </tbody>\n",
              "</table>\n",
              "</div>"
            ],
            "text/plain": [
              "         Date    Open    High     Low  ...  ROC5  ROC10    ATR5 ATR10\n",
              "0  2005-02-25  24.553  25.262  24.385  ...   0.0    0.0  0.0000   0.0\n",
              "1  2005-02-28  24.823  25.170  24.402  ...   0.0    0.0  0.0000   0.0\n",
              "2  2005-03-01  25.137  25.559  24.771  ...   0.0    0.0  0.0000   0.0\n",
              "3  2005-03-02  25.076  25.559  25.076  ...   0.0    0.0  0.0000   0.0\n",
              "4  2005-03-03  25.559  25.559  24.747  ...   0.0    0.0  0.7538   0.0\n",
              "\n",
              "[5 rows x 17 columns]"
            ]
          },
          "metadata": {
            "tags": []
          },
          "execution_count": 13
        }
      ]
    },
    {
      "cell_type": "code",
      "metadata": {
        "id": "96C7pCj6DQcX",
        "colab_type": "code",
        "colab": {}
      },
      "source": [
        "A=data['Date']\n",
        "B=data['Class']"
      ],
      "execution_count": 14,
      "outputs": []
    },
    {
      "cell_type": "code",
      "metadata": {
        "id": "ERRmK6U7EIhW",
        "colab_type": "code",
        "colab": {
          "base_uri": "https://localhost:8080/",
          "height": 279
        },
        "outputId": "bb41a30c-637e-490b-824f-04d0b729addf"
      },
      "source": [
        "import matplotlib.pyplot as plt\n",
        "plt.scatter(A,B)\n",
        "plt.ylabel('Class')\n",
        "plt.xlabel('Date')\n",
        "plt.show()"
      ],
      "execution_count": 15,
      "outputs": [
        {
          "output_type": "display_data",
          "data": {
            "image/png": "[encoded data removed]",
            "text/plain": [
              "<Figure size 432x288 with 1 Axes>"
            ]
          },
          "metadata": {
            "tags": [],
            "needs_background": "light"
          }
        }
      ]
    },
    {
      "cell_type": "code",
      "metadata": {
        "id": "Aob6WNU-K-H8",
        "colab_type": "code",
        "colab": {
          "base_uri": "https://localhost:8080/",
          "height": 292
        },
        "outputId": "c894b849-933a-4cdf-84ac-5195e001e32d"
      },
      "source": [
        "import seaborn as sn\n",
        "df = pd.DataFrame(data,columns=['forceindex','WillR%','RSI5','RSI10','RSI15','ROC5','ROC10','ATR5','ATR10'])\n",
        "corrMatrix = df.corr()\n",
        "print(\"Co-Relation Matrix\")\n",
        "print (corrMatrix)\n",
        "corrMatrix = df.corr()\n",
        "\n",
        "#sn.heatmap(corrMatrix, annot=True)\n",
        "#plt.show()"
      ],
      "execution_count": 16,
      "outputs": [
        {
          "output_type": "stream",
          "text": [
            "Co-Relation Matrix\n",
            "            forceindex    WillR%      RSI5  ...     ROC10      ATR5     ATR10\n",
            "forceindex    1.000000  0.264453  0.279642  ...  0.187579  0.006866  0.012030\n",
            "WillR%        0.264453  1.000000  0.906235  ...  0.735846 -0.044506 -0.036306\n",
            "RSI5          0.279642  0.906235  1.000000  ...  0.714336 -0.044295 -0.041009\n",
            "RSI10         0.219914  0.882447  0.934674  ...  0.755403 -0.048712 -0.047385\n",
            "RSI15         0.188165  0.814387  0.854028  ...  0.716341 -0.045105 -0.046577\n",
            "ROC5          0.239605  0.682895  0.748406  ...  0.651489  0.005677 -0.003343\n",
            "ROC10         0.187579  0.735846  0.714336  ...  1.000000 -0.013045 -0.016408\n",
            "ATR5          0.006866 -0.044506 -0.044295  ... -0.013045  1.000000  0.975206\n",
            "ATR10         0.012030 -0.036306 -0.041009  ... -0.016408  0.975206  1.000000\n",
            "\n",
            "[9 rows x 9 columns]\n"
          ],
          "name": "stdout"
        },
        {
          "output_type": "stream",
          "text": [
            "/usr/local/lib/python3.6/dist-packages/statsmodels/tools/_testing.py:19: FutureWarning: pandas.util.testing is deprecated. Use the functions in the public API at pandas.testing instead.\n",
            "  import pandas.util.testing as tm\n"
          ],
          "name": "stderr"
        }
      ]
    },
    {
      "cell_type": "markdown",
      "metadata": {
        "id": "mp7VG24qMiOv",
        "colab_type": "text"
      },
      "source": [
        "**SPLIT DATASET INTO TRAIN AND TEST SETS**"
      ]
    },
    {
      "cell_type": "code",
      "metadata": {
        "id": "I1Tk7xgJpqeg",
        "colab_type": "code",
        "colab": {
          "base_uri": "https://localhost:8080/",
          "height": 204
        },
        "outputId": "999f0990-f4e3-4174-8784-c374e4e5162a"
      },
      "source": [
        "x_data = data[['WillR%', 'RSI5', 'RSI10', 'RSI15', 'ROC5', 'ROC10', 'ATR5', 'ATR10']]\n",
        "y_data = data['Class']\n",
        "\n",
        "x_data.tail()"
      ],
      "execution_count": 17,
      "outputs": [
        {
          "output_type": "execute_result",
          "data": {
            "text/html": [
              "<div>\n",
              "<style scoped>\n",
              "    .dataframe tbody tr th:only-of-type {\n",
              "        vertical-align: middle;\n",
              "    }\n",
              "\n",
              "    .dataframe tbody tr th {\n",
              "        vertical-align: top;\n",
              "    }\n",
              "\n",
              "    .dataframe thead th {\n",
              "        text-align: right;\n",
              "    }\n",
              "</style>\n",
              "<table border=\"1\" class=\"dataframe\">\n",
              "  <thead>\n",
              "    <tr style=\"text-align: right;\">\n",
              "      <th></th>\n",
              "      <th>WillR%</th>\n",
              "      <th>RSI5</th>\n",
              "      <th>RSI10</th>\n",
              "      <th>RSI15</th>\n",
              "      <th>ROC5</th>\n",
              "      <th>ROC10</th>\n",
              "      <th>ATR5</th>\n",
              "      <th>ATR10</th>\n",
              "    </tr>\n",
              "  </thead>\n",
              "  <tbody>\n",
              "    <tr>\n",
              "      <th>3196</th>\n",
              "      <td>-79.411765</td>\n",
              "      <td>37.530440</td>\n",
              "      <td>41.744495</td>\n",
              "      <td>44.995751</td>\n",
              "      <td>-0.418118</td>\n",
              "      <td>0.070028</td>\n",
              "      <td>1.275869</td>\n",
              "      <td>1.394496</td>\n",
              "    </tr>\n",
              "    <tr>\n",
              "      <th>3197</th>\n",
              "      <td>-96.093750</td>\n",
              "      <td>18.660711</td>\n",
              "      <td>30.149666</td>\n",
              "      <td>36.453226</td>\n",
              "      <td>-3.814147</td>\n",
              "      <td>-3.006993</td>\n",
              "      <td>1.490695</td>\n",
              "      <td>1.490046</td>\n",
              "    </tr>\n",
              "    <tr>\n",
              "      <th>3198</th>\n",
              "      <td>-86.274510</td>\n",
              "      <td>16.445872</td>\n",
              "      <td>28.279470</td>\n",
              "      <td>34.930654</td>\n",
              "      <td>-4.172462</td>\n",
              "      <td>-2.889359</td>\n",
              "      <td>1.492556</td>\n",
              "      <td>1.491042</td>\n",
              "    </tr>\n",
              "    <tr>\n",
              "      <th>3199</th>\n",
              "      <td>-82.786885</td>\n",
              "      <td>12.368160</td>\n",
              "      <td>24.523426</td>\n",
              "      <td>31.771106</td>\n",
              "      <td>-6.280193</td>\n",
              "      <td>-5.233775</td>\n",
              "      <td>1.634045</td>\n",
              "      <td>1.561938</td>\n",
              "    </tr>\n",
              "    <tr>\n",
              "      <th>3200</th>\n",
              "      <td>-80.327869</td>\n",
              "      <td>16.261190</td>\n",
              "      <td>26.158026</td>\n",
              "      <td>32.748733</td>\n",
              "      <td>-4.958101</td>\n",
              "      <td>-5.943331</td>\n",
              "      <td>1.427236</td>\n",
              "      <td>1.465744</td>\n",
              "    </tr>\n",
              "  </tbody>\n",
              "</table>\n",
              "</div>"
            ],
            "text/plain": [
              "         WillR%       RSI5      RSI10  ...     ROC10      ATR5     ATR10\n",
              "3196 -79.411765  37.530440  41.744495  ...  0.070028  1.275869  1.394496\n",
              "3197 -96.093750  18.660711  30.149666  ... -3.006993  1.490695  1.490046\n",
              "3198 -86.274510  16.445872  28.279470  ... -2.889359  1.492556  1.491042\n",
              "3199 -82.786885  12.368160  24.523426  ... -5.233775  1.634045  1.561938\n",
              "3200 -80.327869  16.261190  26.158026  ... -5.943331  1.427236  1.465744\n",
              "\n",
              "[5 rows x 8 columns]"
            ]
          },
          "metadata": {
            "tags": []
          },
          "execution_count": 17
        }
      ]
    },
    {
      "cell_type": "code",
      "metadata": {
        "id": "yk1XpUfaqG-T",
        "colab_type": "code",
        "colab": {}
      },
      "source": [
        "from sklearn.model_selection import train_test_split\n",
        "\n",
        "X_train, X_test, y_train, y_test = train_test_split(x_data, y_data, test_size=0.2)"
      ],
      "execution_count": 18,
      "outputs": []
    },
    {
      "cell_type": "markdown",
      "metadata": {
        "id": "8qfAv-mVsS3o",
        "colab_type": "text"
      },
      "source": [
        "# **ASSEMBLING MODELS**"
      ]
    },
    {
      "cell_type": "markdown",
      "metadata": {
        "id": "OWvB7EmHsmtq",
        "colab_type": "text"
      },
      "source": [
        "**KNN MODEL**"
      ]
    },
    {
      "cell_type": "markdown",
      "metadata": {
        "id": "-gcxo6outuYX",
        "colab_type": "text"
      },
      "source": [
        "First, we will create a new k-NN classifier. Next, we need to create a dictionary to store all the values we will test for ‘n_neighbors’, which is the hyperparameter we need to tune. We will test 24 different values for ‘n_neighbors’. Then we will create our grid search, inputing our k-NN classifier, our set of hyperparamters and our cross validation value."
      ]
    },
    {
      "cell_type": "code",
      "metadata": {
        "id": "ZETqifhGqQGS",
        "colab_type": "code",
        "colab": {
          "base_uri": "https://localhost:8080/",
          "height": 204
        },
        "outputId": "e922318d-dfa0-46f1-ebf3-267b39fd5efa"
      },
      "source": [
        "import numpy as np\n",
        "from sklearn.model_selection import GridSearchCV\n",
        "from sklearn.neighbors import KNeighborsClassifier\n",
        "\n",
        "#create a new knn model\n",
        "knn = KNeighborsClassifier()\n",
        "\n",
        "#create a dictionary of all values we want to test for n_neighbors\n",
        "params_knn = {'n_neighbors': np.arange(1, 25)}\n",
        "\n",
        "#use gridsearch to test all values for n_neighbors\n",
        "knn_gs = GridSearchCV(knn, params_knn, cv=5)\n",
        "\n",
        "#fit model to training data\n",
        "knn_gs.fit(X_train, y_train)\n",
        "\n"
      ],
      "execution_count": 19,
      "outputs": [
        {
          "output_type": "execute_result",
          "data": {
            "text/plain": [
              "GridSearchCV(cv=5, error_score=nan,\n",
              "             estimator=KNeighborsClassifier(algorithm='auto', leaf_size=30,\n",
              "                                            metric='minkowski',\n",
              "                                            metric_params=None, n_jobs=None,\n",
              "                                            n_neighbors=5, p=2,\n",
              "                                            weights='uniform'),\n",
              "             iid='deprecated', n_jobs=None,\n",
              "             param_grid={'n_neighbors': array([ 1,  2,  3,  4,  5,  6,  7,  8,  9, 10, 11, 12, 13, 14, 15, 16, 17,\n",
              "       18, 19, 20, 21, 22, 23, 24])},\n",
              "             pre_dispatch='2*n_jobs', refit=True, return_train_score=False,\n",
              "             scoring=None, verbose=0)"
            ]
          },
          "metadata": {
            "tags": []
          },
          "execution_count": 19
        }
      ]
    },
    {
      "cell_type": "markdown",
      "metadata": {
        "id": "vVWkWCR-u1Z3",
        "colab_type": "text"
      },
      "source": [
        "Cross-validation is when the dataset is randomly split up into ‘k’ groups. One of the groups is used as the test set and the rest are used as the training set. The model is trained on the training set and scored on the test set. Then the process is repeated until each unique group as been used as the test set.\n",
        "\n",
        "In our case, we are using 5-fold cross validation. The dataset is split into 5 groups, and the model is trained and tested 5 separate times so each group would get a chance to be the test set. This is how we will score our model running with each hyperparamter value to see which value for ‘n_neighbors’ gives us the best score.\n",
        "\n"
      ]
    },
    {
      "cell_type": "code",
      "metadata": {
        "id": "UGgV1Rlb8f6i",
        "colab_type": "code",
        "colab": {
          "base_uri": "https://localhost:8080/",
          "height": 34
        },
        "outputId": "cd9db8ca-0172-4a72-9fdb-8418eb43eb83"
      },
      "source": [
        "#save best model\n",
        "knn_best = knn_gs.best_estimator_\n",
        "\n",
        "#check best n_neigbors value\n",
        "print(knn_gs.best_params_)"
      ],
      "execution_count": 20,
      "outputs": [
        {
          "output_type": "stream",
          "text": [
            "{'n_neighbors': 19}\n"
          ],
          "name": "stdout"
        }
      ]
    },
    {
      "cell_type": "markdown",
      "metadata": {
        "id": "yJaxFunavQQo",
        "colab_type": "text"
      },
      "source": [
        "Now we will save our best k-NN model to ‘knn_best’ using the ‘best_estimator_’ function and check what the best value was for ‘n_neighbors’."
      ]
    },
    {
      "cell_type": "markdown",
      "metadata": {
        "id": "p8hM5794u-ie",
        "colab_type": "text"
      },
      "source": [
        "**RANDOM FOREST**"
      ]
    },
    {
      "cell_type": "markdown",
      "metadata": {
        "id": "gHYGCD2SwUUS",
        "colab_type": "text"
      },
      "source": [
        "The next model we will build is a random forest. A random forest is considered an ensemble model in itself, since it is a collection of decision trees combined to make a more accurate model."
      ]
    },
    {
      "cell_type": "code",
      "metadata": {
        "id": "YWPFYGWj8og6",
        "colab_type": "code",
        "colab": {
          "base_uri": "https://localhost:8080/",
          "height": 357
        },
        "outputId": "6e23ce6a-824c-4aeb-c2cd-49b45ea4d5c5"
      },
      "source": [
        "from sklearn.ensemble import RandomForestClassifier\n",
        "\n",
        "#create a new random forest classifier\n",
        "rf = RandomForestClassifier()\n",
        "\n",
        "#create a dictionary of all values we want to test for n_estimators\n",
        "params_rf = {'n_estimators': [50, 100, 200]}\n",
        "\n",
        "#use gridsearch to test all values for n_estimators\n",
        "rf_gs = GridSearchCV(rf, params_rf, cv=5)\n",
        "\n",
        "#fit model to training data\n",
        "rf_gs.fit(X_train, y_train)"
      ],
      "execution_count": 21,
      "outputs": [
        {
          "output_type": "execute_result",
          "data": {
            "text/plain": [
              "GridSearchCV(cv=5, error_score=nan,\n",
              "             estimator=RandomForestClassifier(bootstrap=True, ccp_alpha=0.0,\n",
              "                                              class_weight=None,\n",
              "                                              criterion='gini', max_depth=None,\n",
              "                                              max_features='auto',\n",
              "                                              max_leaf_nodes=None,\n",
              "                                              max_samples=None,\n",
              "                                              min_impurity_decrease=0.0,\n",
              "                                              min_impurity_split=None,\n",
              "                                              min_samples_leaf=1,\n",
              "                                              min_samples_split=2,\n",
              "                                              min_weight_fraction_leaf=0.0,\n",
              "                                              n_estimators=100, n_jobs=None,\n",
              "                                              oob_score=False,\n",
              "                                              random_state=None, verbose=0,\n",
              "                                              warm_start=False),\n",
              "             iid='deprecated', n_jobs=None,\n",
              "             param_grid={'n_estimators': [50, 100, 200]},\n",
              "             pre_dispatch='2*n_jobs', refit=True, return_train_score=False,\n",
              "             scoring=None, verbose=0)"
            ]
          },
          "metadata": {
            "tags": []
          },
          "execution_count": 21
        }
      ]
    },
    {
      "cell_type": "markdown",
      "metadata": {
        "id": "vTpB4pmiwcC2",
        "colab_type": "text"
      },
      "source": [
        "We will create a new random forest classifier and set the hyperparameters we want to tune. ‘n_estimators’ is the number of trees in our random forest. Then we can run our grid search to find the optimal number of trees.\n",
        "\n",
        "Just like before, we will save our best model and print the best ‘n_estimators’ value."
      ]
    },
    {
      "cell_type": "code",
      "metadata": {
        "id": "bLPRm6s28tE1",
        "colab_type": "code",
        "colab": {
          "base_uri": "https://localhost:8080/",
          "height": 34
        },
        "outputId": "8ac3dac9-efb5-4ee8-cc0b-d956958eb26a"
      },
      "source": [
        "#save best model\n",
        "rf_best = rf_gs.best_estimator_\n",
        "\n",
        "#check best n_estimators value\n",
        "print(rf_gs.best_params_)"
      ],
      "execution_count": 22,
      "outputs": [
        {
          "output_type": "stream",
          "text": [
            "{'n_estimators': 200}\n"
          ],
          "name": "stdout"
        }
      ]
    },
    {
      "cell_type": "markdown",
      "metadata": {
        "id": "0-Yc7KLH0Xad",
        "colab_type": "text"
      },
      "source": [
        "**GAUSSIAN KERNEL (SVM)**"
      ]
    },
    {
      "cell_type": "code",
      "metadata": {
        "id": "ZYukQnJy8ywe",
        "colab_type": "code",
        "colab": {
          "base_uri": "https://localhost:8080/",
          "height": 85
        },
        "outputId": "77dc722c-3257-49e2-f3eb-923a5d07f7cc"
      },
      "source": [
        "from sklearn.svm import SVC\n",
        "\n",
        "svclassifier = SVC(kernel='rbf')\n",
        "svclassifier.fit(X_train, y_train)"
      ],
      "execution_count": 23,
      "outputs": [
        {
          "output_type": "execute_result",
          "data": {
            "text/plain": [
              "SVC(C=1.0, break_ties=False, cache_size=200, class_weight=None, coef0=0.0,\n",
              "    decision_function_shape='ovr', degree=3, gamma='scale', kernel='rbf',\n",
              "    max_iter=-1, probability=False, random_state=None, shrinking=True,\n",
              "    tol=0.001, verbose=False)"
            ]
          },
          "metadata": {
            "tags": []
          },
          "execution_count": 23
        }
      ]
    },
    {
      "cell_type": "markdown",
      "metadata": {
        "id": "PpU-DLVliM2J",
        "colab_type": "text"
      },
      "source": [
        "# **EVALUATION OF INDIVIDUAL TRAINING ACCURACIES**"
      ]
    },
    {
      "cell_type": "code",
      "metadata": {
        "id": "3Go3lMu6O8vR",
        "colab_type": "code",
        "colab": {
          "base_uri": "https://localhost:8080/",
          "height": 68
        },
        "outputId": "02631cf7-3e6d-4de7-d603-f31e71dd5b9a"
      },
      "source": [
        "\n",
        "print('knn: {}'.format(knn_best.score(X_train, y_train)))\n",
        "print('rf: {}'.format(rf_best.score(X_train, y_train)))\n",
        "print('svclassifier: {}'.format(svclassifier.score(X_train, y_train)))"
      ],
      "execution_count": 24,
      "outputs": [
        {
          "output_type": "stream",
          "text": [
            "knn: 0.7328125\n",
            "rf: 1.0\n",
            "svclassifier: 0.718359375\n"
          ],
          "name": "stdout"
        }
      ]
    },
    {
      "cell_type": "markdown",
      "metadata": {
        "id": "huht82a0CDK1",
        "colab_type": "text"
      },
      "source": [
        "As we can say this is an overfitted model."
      ]
    },
    {
      "cell_type": "markdown",
      "metadata": {
        "id": "TKZkF_M12VfS",
        "colab_type": "text"
      },
      "source": [
        "## **EVALUATION OF INDIVIDUAL MODEL SCORES**\n",
        "\n",
        "\n"
      ]
    },
    {
      "cell_type": "markdown",
      "metadata": {
        "id": "lYIHnl_R2uo6",
        "colab_type": "text"
      },
      "source": [
        "Now let’s check the accuracy scores of all three of our models on our test data."
      ]
    },
    {
      "cell_type": "code",
      "metadata": {
        "id": "EWf3MJ6381rr",
        "colab_type": "code",
        "colab": {
          "base_uri": "https://localhost:8080/",
          "height": 68
        },
        "outputId": "77ceca5c-2a3e-46dc-b8fb-f658decc95eb"
      },
      "source": [
        "print('knn: {}'.format(knn_best.score(X_test, y_test)))\n",
        "print('rf: {}'.format(rf_best.score(X_test, y_test)))\n",
        "print('svclassifier: {}'.format(svclassifier.score(X_test, y_test)))"
      ],
      "execution_count": 25,
      "outputs": [
        {
          "output_type": "stream",
          "text": [
            "knn: 0.7207488299531981\n",
            "rf: 0.7160686427457098\n",
            "svclassifier: 0.7160686427457098\n"
          ],
          "name": "stdout"
        }
      ]
    },
    {
      "cell_type": "markdown",
      "metadata": {
        "id": "YJ-9h9lP8KwD",
        "colab_type": "text"
      },
      "source": [
        "As you can see from the output, Knn is the most accurate out of the three. "
      ]
    },
    {
      "cell_type": "markdown",
      "metadata": {
        "id": "30q1J9cR8b2M",
        "colab_type": "text"
      },
      "source": [
        "# VOTING CLASSIFIER"
      ]
    },
    {
      "cell_type": "markdown",
      "metadata": {
        "id": "dCUQDwvN8XW9",
        "colab_type": "text"
      },
      "source": [
        "Now that we’ve built our three individual models, it’s time we built our voting classifier."
      ]
    },
    {
      "cell_type": "code",
      "metadata": {
        "id": "rM47Or9486ls",
        "colab_type": "code",
        "colab": {}
      },
      "source": [
        "from sklearn.ensemble import VotingClassifier\n",
        "\n",
        "#create a dictionary of our models\n",
        "estimators=[('knn', knn_best), ('rf', rf_best), ('svclassifier', svclassifier)]\n",
        "\n",
        "#create our voting classifier, inputting our models\n",
        "ensemble = VotingClassifier(estimators, voting='hard')"
      ],
      "execution_count": 26,
      "outputs": []
    },
    {
      "cell_type": "code",
      "metadata": {
        "id": "ULFFqjSN8-nw",
        "colab_type": "code",
        "colab": {
          "base_uri": "https://localhost:8080/",
          "height": 34
        },
        "outputId": "100a290f-4be5-4eb4-a0ec-a539ea8546b0"
      },
      "source": [
        "#fit model to training data\n",
        "ensemble.fit(X_train, y_train)\n",
        "\n",
        "#test our model on the test data\n",
        "ensemble.score(X_test, y_test)"
      ],
      "execution_count": 27,
      "outputs": [
        {
          "output_type": "execute_result",
          "data": {
            "text/plain": [
              "0.733229329173167"
            ]
          },
          "metadata": {
            "tags": []
          },
          "execution_count": 27
        }
      ]
    },
    {
      "cell_type": "code",
      "metadata": {
        "id": "UoTrNIboPUtV",
        "colab_type": "code",
        "colab": {}
      },
      "source": [
        "#fit model to training data\n",
        "#ensemble.fit(X_train, y_train)\n",
        "\n",
        "#test our model on the train data\n",
        "#ensemble.score(X_train, y_train)"
      ],
      "execution_count": 28,
      "outputs": []
    },
    {
      "cell_type": "code",
      "metadata": {
        "id": "9u-tpJzUU-gj",
        "colab_type": "code",
        "colab": {}
      },
      "source": [
        "x=['KNN','RF','SVM','ENSEMBLE']\n",
        "y=[72.07,71.60,71.608,73.30]"
      ],
      "execution_count": 31,
      "outputs": []
    },
    {
      "cell_type": "code",
      "metadata": {
        "id": "MYpzwqAX_KYL",
        "colab_type": "code",
        "colab": {
          "base_uri": "https://localhost:8080/",
          "height": 282
        },
        "outputId": "3ba7db88-ea1d-4fe3-9aef-41c8f1262ade"
      },
      "source": [
        "import matplotlib.pyplot as plt\n",
        "import seaborn as sns\n",
        "plt.bar(x,y)\n",
        "plt.show"
      ],
      "execution_count": 32,
      "outputs": [
        {
          "output_type": "execute_result",
          "data": {
            "text/plain": [
              "<function matplotlib.pyplot.show>"
            ]
          },
          "metadata": {
            "tags": []
          },
          "execution_count": 32
        },
        {
          "output_type": "display_data",
          "data": {
            "image/png": "[encoded data removed]",
            "text/plain": [
              "<Figure size 432x288 with 1 Axes>"
            ]
          },
          "metadata": {
            "tags": [],
            "needs_background": "light"
          }
        }
      ]
    },
    {
      "cell_type": "markdown",
      "metadata": {
        "id": "wXFiv35SPH6S",
        "colab_type": "text"
      },
      "source": [
        "**Our ensemble model performed better than our individual k-NN, random forest and Gaussian SVM models!**\n",
        "\n"
      ]
    },
    {
      "cell_type": "code",
      "metadata": {
        "id": "8OwwZzU1rAlg",
        "colab_type": "code",
        "colab": {}
      },
      "source": [
        ""
      ],
      "execution_count": 30,
      "outputs": []
    }
  ]
}